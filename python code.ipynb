{
 "cells": [
  {
   "cell_type": "code",
   "execution_count": null,
   "id": "3f40ad5b",
   "metadata": {},
   "outputs": [],
   "source": [
    "import pandas as pd\n",
    "data = pd.read_csv(r\"C:\\Users\\AdmiN\\Desktop\\Project\\BlinkIT Grocery Data.csv\",encoding='utf8')"
   ]
  },
  {
   "cell_type": "code",
   "execution_count": null,
   "id": "b0cf4e61",
   "metadata": {},
   "outputs": [],
   "source": [
    "data.info()"
   ]
  },
  {
   "cell_type": "code",
   "execution_count": null,
   "id": "6853be6a",
   "metadata": {},
   "outputs": [],
   "source": [
    "# checking for null values\n",
    "\n",
    "data.isnull().sum()"
   ]
  },
  {
   "cell_type": "code",
   "execution_count": null,
   "id": "17c0b4da",
   "metadata": {},
   "outputs": [],
   "source": [
    "# standardrizing inconsistant labels in 'Item Fat Content'\n",
    "\n",
    "data['Item Fat Content'].replace({'reg': 'Regular', 'LF': 'Low Fat','low fat':'Low Fat'}, inplace=True)\n"
   ]
  },
  {
   "cell_type": "code",
   "execution_count": null,
   "id": "30a9a92f",
   "metadata": {},
   "outputs": [],
   "source": [
    "# Filling Mising 'Item Weight ' values with the mean of the 'item weight'\n",
    "\n",
    "data['Item Weight'].fillna(data['Item Weight'].mean(),inplace=True)"
   ]
  },
  {
   "cell_type": "code",
   "execution_count": null,
   "id": "71eb1de4",
   "metadata": {},
   "outputs": [],
   "source": [
    "# Adding a new column 'Outlet Age' to calculate the age of the outlet\n",
    "\n",
    "data['Outlet Age'] = 2025 - data['Outlet Establishment Year']"
   ]
  },
  {
   "cell_type": "code",
   "execution_count": null,
   "id": "54ec5f35",
   "metadata": {},
   "outputs": [],
   "source": [
    "# Checking for rows where 'Item Visibility' is 0\n",
    "\n",
    "data[data['Item Visibility'] == 0]\n"
   ]
  },
  {
   "cell_type": "code",
   "execution_count": null,
   "id": "0c3f4648",
   "metadata": {},
   "outputs": [],
   "source": [
    "\n",
    "# repalcing 0 with the mean of the 'item Visibility'\n",
    "\n",
    "data['Item Visibility'].replace(to_replace=0,value=data['Item Visibility'].mean(),inplace=True)"
   ]
  },
  {
   "cell_type": "code",
   "execution_count": null,
   "id": "509b74ba",
   "metadata": {},
   "outputs": [],
   "source": [
    "# saving file\n",
    "data.to_csv(r\"C:\\Users\\AdmiN\\Desktop\\Project\\blinkit.clean.csv\",encoding='utf8',index=False)"
   ]
  },
  {
   "cell_type": "code",
   "execution_count": null,
   "id": "a9e519a3",
   "metadata": {},
   "outputs": [],
   "source": []
  }
 ],
 "metadata": {
  "kernelspec": {
   "display_name": "Python 3",
   "language": "python",
   "name": "python3"
  },
  "language_info": {
   "codemirror_mode": {
    "name": "ipython",
    "version": 3
   },
   "file_extension": ".py",
   "mimetype": "text/x-python",
   "name": "python",
   "nbconvert_exporter": "python",
   "pygments_lexer": "ipython3",
   "version": "3.13.5"
  }
 },
 "nbformat": 4,
 "nbformat_minor": 5
}
